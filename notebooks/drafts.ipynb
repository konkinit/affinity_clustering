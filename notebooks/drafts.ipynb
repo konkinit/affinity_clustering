{
 "cells": [
  {
   "cell_type": "code",
   "execution_count": null,
   "metadata": {},
   "outputs": [],
   "source": [
    "import os\n",
    "from math import log, floor\n",
    "from random import randint\n",
    "from sklearn import datasets\n",
    "os.chdir(\"../\")\n",
    "\n",
    "from src.config import Distributed_Affinity_Params, Naive_Algo_Params, Affinity_Params\n",
    "from src.utils import getMetadataSats, getEdge, tabular2network\n",
    "from src.algos import DistributedAffinity, NaiveHierarchical, Affinity"
   ]
  },
  {
   "cell_type": "code",
   "execution_count": null,
   "metadata": {},
   "outputs": [],
   "source": [
    "tabular2network(\"IRIS\")"
   ]
  },
  {
   "attachments": {},
   "cell_type": "markdown",
   "metadata": {},
   "source": [
    "# Afffinity Clustering"
   ]
  },
  {
   "cell_type": "code",
   "execution_count": null,
   "metadata": {},
   "outputs": [],
   "source": [
    "params = Affinity_Params(\n",
    "    data_name=\"IRIS-net\",\n",
    "    k=10,\n",
    ")"
   ]
  },
  {
   "cell_type": "code",
   "execution_count": null,
   "metadata": {},
   "outputs": [],
   "source": [
    "file_path = f\"./data/inputs/{params.data_name}.txt\"\n",
    "\n",
    "with open(file_path) as f:\n",
    "    graph = [e.strip(\"\\n\") for e in f.readlines()]\n",
    "f.close()\n",
    "\n",
    "graph_ = [getEdge(e) for e in graph]"
   ]
  },
  {
   "cell_type": "code",
   "execution_count": null,
   "metadata": {},
   "outputs": [],
   "source": [
    "affinity_ = Affinity(graph_, params.k)\n",
    "\n",
    "len(affinity_.clustering())"
   ]
  },
  {
   "attachments": {},
   "cell_type": "markdown",
   "metadata": {},
   "source": [
    "# Distributed Affinity Clustering"
   ]
  },
  {
   "cell_type": "code",
   "execution_count": null,
   "metadata": {},
   "outputs": [],
   "source": [
    "params = Distributed_Affinity_Params(\n",
    "    sc_name=f\"Affinity\", \n",
    "    data_name=\"OPINIONS\",\n",
    "    k=10,\n",
    "    eps=0.1\n",
    ")"
   ]
  },
  {
   "cell_type": "code",
   "execution_count": null,
   "metadata": {},
   "outputs": [],
   "source": [
    "file_path = f\"./data/inputs/{params.data_name}.txt\"\n",
    "\n",
    "with open(file_path) as f:\n",
    "    graph = [e.strip(\"\\n\") for e in f.readlines()]\n",
    "f.close()\n",
    "\n",
    "n_graph, m_graph, c = getMetadataSats(graph)\n",
    "\n",
    "n_graph, m_graph, c"
   ]
  },
  {
   "cell_type": "code",
   "execution_count": null,
   "metadata": {},
   "outputs": [],
   "source": [
    "print(f\"Finding the MST of G that runs in at most {floor(log(c/params.eps)) + 1} rounds\")\n",
    "\n",
    "print(f\"Number of machines {n_graph**(c-params.eps)}\")"
   ]
  },
  {
   "cell_type": "code",
   "execution_count": null,
   "metadata": {},
   "outputs": [],
   "source": [
    "dist_affinity = DistributedAffinity(params)\n",
    "\n",
    "dist_affinity.sc"
   ]
  },
  {
   "cell_type": "code",
   "execution_count": null,
   "metadata": {},
   "outputs": [],
   "source": [
    "dist_affinity.compute().keys()"
   ]
  },
  {
   "cell_type": "code",
   "execution_count": null,
   "metadata": {},
   "outputs": [],
   "source": [
    "dist_affinity.computation_time"
   ]
  },
  {
   "attachments": {},
   "cell_type": "markdown",
   "metadata": {},
   "source": [
    "# Naive approach"
   ]
  },
  {
   "cell_type": "code",
   "execution_count": null,
   "metadata": {},
   "outputs": [],
   "source": [
    "params = Naive_Algo_Params(\"IRIS-tab\", 15)\n",
    "\n",
    "naive_hierar = NaiveHierarchical(params)\n",
    "\n",
    "naive_hierar.compute()"
   ]
  },
  {
   "cell_type": "code",
   "execution_count": null,
   "metadata": {},
   "outputs": [],
   "source": [
    "naive_hierar.computation_time"
   ]
  },
  {
   "cell_type": "code",
   "execution_count": null,
   "metadata": {},
   "outputs": [],
   "source": []
  }
 ],
 "metadata": {
  "kernelspec": {
   "display_name": "base",
   "language": "python",
   "name": "python3"
  },
  "language_info": {
   "codemirror_mode": {
    "name": "ipython",
    "version": 3
   },
   "file_extension": ".py",
   "mimetype": "text/x-python",
   "name": "python",
   "nbconvert_exporter": "python",
   "pygments_lexer": "ipython3",
   "version": "3.10.6"
  },
  "orig_nbformat": 4
 },
 "nbformat": 4,
 "nbformat_minor": 2
}
