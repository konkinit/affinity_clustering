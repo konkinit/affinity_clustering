{
 "cells": [
  {
   "cell_type": "code",
   "execution_count": null,
   "metadata": {},
   "outputs": [],
   "source": [
    "import os\n",
    "from math import log\n",
    "from random import randint\n",
    "os.chdir(\"../\")\n",
    "\n",
    "from src.config import Distributed_Affinity_Params\n",
    "from src.utils import getEdge, getMetadataSats\n",
    "from src.algos import DistributedAffinity"
   ]
  },
  {
   "cell_type": "code",
   "execution_count": null,
   "metadata": {},
   "outputs": [],
   "source": [
    "with open(\"./data/inputs/USAIR97.txt\") as f:\n",
    "    graph = [e.strip(\"\\n\") for e in f.readlines()]\n",
    "f.close()"
   ]
  },
  {
   "cell_type": "code",
   "execution_count": null,
   "metadata": {},
   "outputs": [],
   "source": [
    "n_graph, m_graph = getMetadataSats(graph)\n",
    "log(m_graph)/log(n_graph) - 1"
   ]
  },
  {
   "cell_type": "code",
   "execution_count": null,
   "metadata": {},
   "outputs": [],
   "source": [
    "params = Distributed_Affinity_Params(f\"Affinity_{randint(0, 255)}\", \"USAIR97\", 10, 0.005)\n",
    "\n",
    "dist_affinity = DistributedAffinity(params)\n",
    "\n",
    "dist_affinity.compute()"
   ]
  },
  {
   "cell_type": "code",
   "execution_count": null,
   "metadata": {},
   "outputs": [],
   "source": [
    "dist_affinity.compute_time"
   ]
  },
  {
   "cell_type": "code",
   "execution_count": null,
   "metadata": {},
   "outputs": [],
   "source": []
  }
 ],
 "metadata": {
  "kernelspec": {
   "display_name": "base",
   "language": "python",
   "name": "python3"
  },
  "language_info": {
   "codemirror_mode": {
    "name": "ipython",
    "version": 3
   },
   "file_extension": ".py",
   "mimetype": "text/x-python",
   "name": "python",
   "nbconvert_exporter": "python",
   "pygments_lexer": "ipython3",
   "version": "3.10.6"
  },
  "orig_nbformat": 4
 },
 "nbformat": 4,
 "nbformat_minor": 2
}
