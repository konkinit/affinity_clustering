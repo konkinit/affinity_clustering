{
 "cells": [
  {
   "cell_type": "code",
   "execution_count": null,
   "metadata": {},
   "outputs": [],
   "source": [
    "import os\n",
    "from math import log, floor\n",
    "os.chdir(\"../\")\n",
    "\n",
    "from src.config import Distributed_Affinity_Params, Naive_Algo_Params, Affinity_Params\n",
    "from src.utils import getMetadataSats, getEdge, rand_index, Graph\n",
    "from src.algos import DistributedAffinity, NaiveHierarchical"
   ]
  },
  {
   "cell_type": "code",
   "execution_count": null,
   "metadata": {},
   "outputs": [],
   "source": [
    "dataset_name = \"BANKNOTE\"\n",
    "\n",
    "n_clusters = 10"
   ]
  },
  {
   "cell_type": "code",
   "execution_count": null,
   "metadata": {},
   "outputs": [],
   "source": [
    "with open(f\"./data/inputs/{dataset_name}-labels.txt\") as f:\n",
    "    truth_clusters = [list(eval(e.strip(\"\\n\"))) for e in f.readlines()]\n",
    "    n_clusters = len(truth_clusters)\n",
    "f.close()\n",
    "\n",
    "vertices = []\n",
    "for cluster in truth_clusters:\n",
    "    vertices += cluster\n",
    "vertices = list(set(vertices))"
   ]
  },
  {
   "attachments": {},
   "cell_type": "markdown",
   "metadata": {},
   "source": [
    "# Distributed Affinity Clustering"
   ]
  },
  {
   "cell_type": "code",
   "execution_count": null,
   "metadata": {},
   "outputs": [],
   "source": [
    "params = Distributed_Affinity_Params(\n",
    "    sc_name=f\"Affinity\", \n",
    "    data_name=f\"{dataset_name}-net\",\n",
    "    k=n_clusters,\n",
    "    eps=0.3\n",
    ")"
   ]
  },
  {
   "cell_type": "code",
   "execution_count": null,
   "metadata": {},
   "outputs": [],
   "source": [
    "with open(f\"./data/inputs/{params.data_name}.txt\") as f:\n",
    "    graph = [e.strip(\"\\n\") for e in f.readlines()]\n",
    "f.close()\n",
    "\n",
    "n_graph, m_graph, c = getMetadataSats(graph)"
   ]
  },
  {
   "cell_type": "code",
   "execution_count": null,
   "metadata": {},
   "outputs": [],
   "source": [
    "print(f\"Number of vertices : {n_graph}\")\n",
    "print(f\"Number of edges : {m_graph}\")\n",
    "print(f\"Value of c : {round(c, 3)}\")"
   ]
  },
  {
   "cell_type": "code",
   "execution_count": null,
   "metadata": {},
   "outputs": [],
   "source": [
    "print(f\"Finding the MST of G that runs in at most {floor(log(c/params.eps)) + 1} rounds\")\n",
    "print(f\"Number of machines : {int(n_graph**(c-params.eps))}\")"
   ]
  },
  {
   "cell_type": "code",
   "execution_count": null,
   "metadata": {},
   "outputs": [],
   "source": [
    "dist_affinity = DistributedAffinity(params)\n",
    "dist_affinity.sc"
   ]
  },
  {
   "cell_type": "code",
   "execution_count": null,
   "metadata": {},
   "outputs": [],
   "source": [
    "distributed_clustering = dist_affinity.compute()"
   ]
  },
  {
   "cell_type": "code",
   "execution_count": null,
   "metadata": {},
   "outputs": [],
   "source": [
    "print(distributed_clustering.keys())"
   ]
  },
  {
   "cell_type": "code",
   "execution_count": null,
   "metadata": {},
   "outputs": [],
   "source": [
    "print(f\"The distributed algorithm ran in {round(dist_affinity.computation_time, 1)} seconds on the {params.data_name} dataset\")"
   ]
  },
  {
   "attachments": {},
   "cell_type": "markdown",
   "metadata": {},
   "source": [
    "# Naive approach"
   ]
  },
  {
   "cell_type": "code",
   "execution_count": 12,
   "metadata": {},
   "outputs": [],
   "source": [
    "params = Naive_Algo_Params(\n",
    "    data_name=f\"{dataset_name}-tab\",\n",
    "    k=n_clusters\n",
    ")\n",
    "naive_hierar = NaiveHierarchical(params)\n",
    "naive_clsutering = naive_hierar.compute()"
   ]
  },
  {
   "cell_type": "code",
   "execution_count": null,
   "metadata": {},
   "outputs": [],
   "source": [
    "print(naive_clsutering.keys())"
   ]
  },
  {
   "cell_type": "code",
   "execution_count": null,
   "metadata": {},
   "outputs": [],
   "source": [
    "print(f\"The naive hierarchical algo ran {round(naive_hierar.computation_time, 1)} seconds on the {params.data_name} dataset\")"
   ]
  },
  {
   "attachments": {},
   "cell_type": "markdown",
   "metadata": {},
   "source": [
    "# Comparaison"
   ]
  },
  {
   "cell_type": "code",
   "execution_count": null,
   "metadata": {},
   "outputs": [],
   "source": [
    "r_naive = rand_index(vertices, list(naive_clsutering.values()), truth_clusters)\n",
    "\n",
    "r_naive"
   ]
  },
  {
   "cell_type": "code",
   "execution_count": null,
   "metadata": {},
   "outputs": [],
   "source": [
    "r_distributed = rand_index(vertices, list(distributed_clustering.values()), truth_clusters)\n",
    "\n",
    "r_distributed"
   ]
  },
  {
   "cell_type": "code",
   "execution_count": null,
   "metadata": {},
   "outputs": [],
   "source": []
  }
 ],
 "metadata": {
  "kernelspec": {
   "display_name": "base",
   "language": "python",
   "name": "python3"
  },
  "language_info": {
   "codemirror_mode": {
    "name": "ipython",
    "version": 3
   },
   "file_extension": ".py",
   "mimetype": "text/x-python",
   "name": "python",
   "nbconvert_exporter": "python",
   "pygments_lexer": "ipython3",
   "version": "3.10.6"
  },
  "orig_nbformat": 4
 },
 "nbformat": 4,
 "nbformat_minor": 2
}
